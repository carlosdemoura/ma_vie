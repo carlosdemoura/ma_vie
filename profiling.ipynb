{
 "cells": [
  {
   "cell_type": "markdown",
   "metadata": {},
   "source": []
  },
  {
   "cell_type": "code",
   "execution_count": null,
   "metadata": {},
   "outputs": [],
   "source": [
    "import myseed\n",
    "for _ in range(10):\n",
    "    seed = myseed.gerar_seed(1000)\n",
    "    seed = myseed.vespelhar(seed)\n",
    "    seed = myseed.hespelhar(seed)\n",
    "    seed = myseed.transpor(seed)\n",
    "    seed = myseed.rodar(seed)\n",
    "    seed = myseed.exportar(seed)\n",
    "seed = myseed.importar('C:/Users/Carlos/Downloads/seeds/seed-31.txt')\n",
    "#seed = myseed.evoluir(seed, 900)\n",
    "print(seed[2])"
   ]
  },
  {
   "cell_type": "code",
   "execution_count": null,
   "metadata": {},
   "outputs": [],
   "source": [
    "import myseed\n",
    "for _ in range(10):\n",
    "    seed = myseed.Seed(1000)\n",
    "    seed = myseed.vespelhar(seed)\n",
    "    seed.espelhar(1)\n",
    "    seed.\n",
    "    seed.t\n",
    "    seed = myseed.rodar(seed)\n",
    "    seed = myseed.exportar(seed)\n",
    "seed = myseed.importar('C:/Users/Carlos/Downloads/seeds/seed-31.txt')\n",
    "#seed = myseed.evoluir(seed, 900)\n",
    "print(seed[2])"
   ]
  },
  {
   "cell_type": "code",
   "execution_count": null,
   "metadata": {},
   "outputs": [],
   "source": []
  }
 ],
 "metadata": {
  "kernelspec": {
   "display_name": "Python 3",
   "language": "python",
   "name": "python3"
  },
  "language_info": {
   "codemirror_mode": {
    "name": "ipython",
    "version": 3
   },
   "file_extension": ".py",
   "mimetype": "text/x-python",
   "name": "python",
   "nbconvert_exporter": "python",
   "pygments_lexer": "ipython3",
   "version": "3.12.0"
  }
 },
 "nbformat": 4,
 "nbformat_minor": 2
}
